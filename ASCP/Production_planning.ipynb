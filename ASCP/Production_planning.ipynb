{
  "nbformat": 4,
  "nbformat_minor": 0,
  "metadata": {
    "colab": {
      "provenance": [],
      "authorship_tag": "ABX9TyN0dDQ3OGH0OS1DmsEL/Jt2",
      "include_colab_link": true
    },
    "kernelspec": {
      "name": "python3",
      "display_name": "Python 3"
    },
    "language_info": {
      "name": "python"
    }
  },
  "cells": [
    {
      "cell_type": "markdown",
      "metadata": {
        "id": "view-in-github",
        "colab_type": "text"
      },
      "source": [
        "<a href=\"https://colab.research.google.com/github/hksantosh/sscm/blob/main/ASCP/Production_planning.ipynb\" target=\"_parent\"><img src=\"https://colab.research.google.com/assets/colab-badge.svg\" alt=\"Open In Colab\"/></a>"
      ]
    },
    {
      "cell_type": "code",
      "source": [
        "!pip install ortools"
      ],
      "metadata": {
        "colab": {
          "base_uri": "https://localhost:8080/"
        },
        "id": "OSDZHjxLfYND",
        "outputId": "6e0d8873-114b-48ad-9f5c-19dc4f95bf06"
      },
      "execution_count": 1,
      "outputs": [
        {
          "output_type": "stream",
          "name": "stdout",
          "text": [
            "Looking in indexes: https://pypi.org/simple, https://us-python.pkg.dev/colab-wheels/public/simple/\n",
            "Requirement already satisfied: ortools in /usr/local/lib/python3.8/dist-packages (9.5.2237)\n",
            "Requirement already satisfied: absl-py>=0.13 in /usr/local/lib/python3.8/dist-packages (from ortools) (1.4.0)\n",
            "Requirement already satisfied: numpy>=1.13.3 in /usr/local/lib/python3.8/dist-packages (from ortools) (1.21.6)\n",
            "Requirement already satisfied: protobuf>=4.21.5 in /usr/local/lib/python3.8/dist-packages (from ortools) (4.22.0)\n"
          ]
        }
      ]
    },
    {
      "cell_type": "code",
      "source": [
        "import numpy as np\n",
        "import pandas as pd\n",
        "from ortools.linear_solver import pywraplp\n",
        "\n",
        "solver = pywraplp.Solver.CreateSolver('SCIP')\n",
        "infinity = solver.infinity()"
      ],
      "metadata": {
        "id": "fD9YJPBRgunY"
      },
      "execution_count": 2,
      "outputs": []
    },
    {
      "cell_type": "markdown",
      "source": [
        "# Formulating the Problem"
      ],
      "metadata": {
        "id": "7NnU5EBZYwgg"
      }
    },
    {
      "cell_type": "markdown",
      "source": [
        "## Indices\n",
        "4 quarters - [1,2,3,4]\n"
      ],
      "metadata": {
        "id": "0BUCqiULTJEO"
      }
    },
    {
      "cell_type": "code",
      "source": [
        "quarters = [1,2,3,4]"
      ],
      "metadata": {
        "id": "lnagY9rFi-1i"
      },
      "execution_count": 3,
      "outputs": []
    },
    {
      "cell_type": "markdown",
      "source": [
        "## Parameters\n",
        "*   Regular production costs \\$20 per unit\n",
        "*   Overtime production costs \\$25 per unit\n",
        "*   Subcontracting costs \\$28 per unit\n",
        "*   Inventory costs \\$3 per unit-period\n",
        "*   Inventory at beginning of the year = 300 units\n",
        "*   Inventory at end of the year = 300 units\n"
      ],
      "metadata": {
        "id": "7Em9iU7SUBG5"
      }
    },
    {
      "cell_type": "code",
      "source": [
        "regular_prod_cost = 20\n",
        "overtime_prod_cost = 25\n",
        "subcontract_cost = 28\n",
        "inventory_cost = 3\n",
        "starting_inventory = 300\n",
        "year_end_inventory = 300\n",
        "\n",
        "qrtrly_demand = [900,1500,1600,3000]\n",
        "qrtrly_regular_capacity = [1000,1200,1300,1300]\n",
        "qrtrly_overtime_capacity = [100,150,200,200]\n",
        "qrtrly_subcontract_capacity = [500,500,500,500]"
      ],
      "metadata": {
        "id": "xz1Xe6BEd47D"
      },
      "execution_count": 4,
      "outputs": []
    },
    {
      "cell_type": "markdown",
      "source": [
        "## Decision Variables\n",
        "* Units produced in each quarter using regular production - $R_{1}, R_{2}, R_{3}, R_{4}$\n",
        "* Units produced in each quarter using Overtime - $V_{1}, V_{2}, V_{3}, V_{4}$\n",
        "* Units produced in each quarter using Subcontracts - $S_{1}, S_{2}, S_{3}, S_{4}$\n",
        "\n",
        "## Other Variables\n",
        "* Inventory at the start of each quarter - $B_{1}, B_{2}, B_{3}, B_{4}$\n",
        "* Inventory at the end of each quarter - $E_{1}, E_{2}, E_{3}, E_{4}$"
      ],
      "metadata": {
        "id": "6Lv7sB2cUfRU"
      }
    },
    {
      "cell_type": "code",
      "source": [
        "df = pd.DataFrame(index=quarters,columns=['regular','overtime','subcontract','inventory'])\n",
        "# df = pd.DataFrame(index=quarters,columns=['regular','overtime','subcontract'])\n",
        "\n",
        "for i in quarters:\n",
        "  for j in ['regular','overtime','subcontract']:\n",
        "    df.at[i,j] = solver.IntVar(0, infinity, 'X[%d][%s]' %(i,j))\n",
        "\n",
        "for i in quarters:\n",
        "  if(i==1):\n",
        "    inventory = starting_inventory\n",
        "  else:\n",
        "    inventory = df.at[i-1,'inventory'] + df.at[i-1,'regular'] + df.at[i-1,'overtime'] + df.at[i-1,'subcontract']\n",
        "    inventory = inventory - qrtrly_demand[i-2] # i-2 as this is an array & index starts at 0 whereas our dataframe row index starts at 1 (quarter no.)\n",
        "\n",
        "  df.at[i,'inventory'] = inventory"
      ],
      "metadata": {
        "id": "Jt3y2hP_e5_-"
      },
      "execution_count": 5,
      "outputs": []
    },
    {
      "cell_type": "markdown",
      "source": [
        "## Constraints\n",
        "* Demand constraint for each quarter - 900, 1500, 1600, 3000\n",
        "* Regular production capacity constraint for each quarter - 1000, 1200, 1300, 1300\n",
        "* Overtime production capacity constraint for each quarter - 100, 150, 200, 200\n",
        "*\tSubcontract production capacity constraint for each quarter - 500, 500, 500, 500"
      ],
      "metadata": {
        "id": "CYXGmoTaWBjR"
      }
    },
    {
      "cell_type": "code",
      "source": [
        "#Create the constraints\n",
        "for i in quarters:\n",
        "  ## Set capacity constraints\n",
        "  solver.Add(df.at[i,'regular'] <= qrtrly_regular_capacity[i-1])\n",
        "  solver.Add(df.at[i,'overtime'] <= qrtrly_overtime_capacity[i-1])\n",
        "  solver.Add(df.at[i,'subcontract'] <= qrtrly_subcontract_capacity[i-1])\n",
        "\n",
        "  # Set demand satisfaction constraint. In other words ensure inventory does not dry up\n",
        "  solver.Add(df.at[i,'inventory'] >= 0)\n",
        "\n",
        "## Set year end inventory constraint (in other words end of q4 inventory constraint)\n",
        "solver.Add( (df.at[4,'inventory'] + df.at[4,'regular'] + df.at[4,'overtime'] + df.at[4,'subcontract'] - qrtrly_demand[3]) == year_end_inventory )"
      ],
      "metadata": {
        "colab": {
          "base_uri": "https://localhost:8080/"
        },
        "id": "jOC9c9RUfwk1",
        "outputId": "7dbdb594-7ecc-4bc6-add3-be9cd19b6778"
      },
      "execution_count": 6,
      "outputs": [
        {
          "output_type": "execute_result",
          "data": {
            "text/plain": [
              "<ortools.linear_solver.pywraplp.Constraint; proxy of <Swig Object of type 'operations_research::MPConstraint *' at 0x7f74c12ae570> >"
            ]
          },
          "metadata": {},
          "execution_count": 6
        }
      ]
    },
    {
      "cell_type": "markdown",
      "source": [
        "## Objective Function\n",
        "Minimize the total production cost = $\\min( \\sum_{q=1}^{4} (20R_{q}+25V_{q}+28S_{q}+3I_{q})$\\)\n"
      ],
      "metadata": {
        "id": "nAs7EeyKXZz2"
      }
    },
    {
      "cell_type": "code",
      "source": [
        "objective_terms = []\n",
        "for i in quarters:\n",
        "  objective_terms.append(df.at[i,'regular']*regular_prod_cost)\n",
        "  objective_terms.append(df.at[i,'overtime']*overtime_prod_cost)\n",
        "  objective_terms.append(df.at[i,'subcontract']*subcontract_cost)\n",
        "  objective_terms.append(df.at[i,'inventory']*inventory_cost)\n",
        "\n",
        "solver.Minimize(solver.Sum(objective_terms))\n",
        "status = solver.Solve()"
      ],
      "metadata": {
        "id": "1qzIgatnY3DF"
      },
      "execution_count": 7,
      "outputs": []
    },
    {
      "cell_type": "markdown",
      "source": [
        "## Solution"
      ],
      "metadata": {
        "id": "60Mp35NDTlEu"
      }
    },
    {
      "cell_type": "code",
      "source": [
        "if status == pywraplp.Solver.OPTIMAL:\n",
        "  print('Minimum Cost required to meet the demand = $', solver.Objective().Value())\n",
        "\n",
        "  df_values = pd.DataFrame(index=quarters,columns=['regular','overtime','subcontract'])\n",
        "\n",
        "  for x in ['regular','overtime','subcontract']:\n",
        "    df_values[x] = df[x].apply(lambda x: x.solution_value())\n",
        "\n",
        "  display(df_values)\n",
        "else:\n",
        "  print('The problem does not have an optimal solution.')"
      ],
      "metadata": {
        "colab": {
          "base_uri": "https://localhost:8080/",
          "height": 193
        },
        "id": "JoJ9nLfiEGNr",
        "outputId": "7548b3e5-d06e-4f25-fb83-6c9f166f31a9"
      },
      "execution_count": 8,
      "outputs": [
        {
          "output_type": "stream",
          "name": "stdout",
          "text": [
            "Minimum Cost required to meet the demand = $ 164800.0\n"
          ]
        },
        {
          "output_type": "display_data",
          "data": {
            "text/plain": [
              "   regular  overtime  subcontract\n",
              "1   1000.0     100.0         50.0\n",
              "2   1200.0     150.0        500.0\n",
              "3   1300.0     200.0        500.0\n",
              "4   1300.0     200.0        500.0"
            ],
            "text/html": [
              "\n",
              "  <div id=\"df-c0687ac8-b1a0-4051-bff3-f82ef4346045\">\n",
              "    <div class=\"colab-df-container\">\n",
              "      <div>\n",
              "<style scoped>\n",
              "    .dataframe tbody tr th:only-of-type {\n",
              "        vertical-align: middle;\n",
              "    }\n",
              "\n",
              "    .dataframe tbody tr th {\n",
              "        vertical-align: top;\n",
              "    }\n",
              "\n",
              "    .dataframe thead th {\n",
              "        text-align: right;\n",
              "    }\n",
              "</style>\n",
              "<table border=\"1\" class=\"dataframe\">\n",
              "  <thead>\n",
              "    <tr style=\"text-align: right;\">\n",
              "      <th></th>\n",
              "      <th>regular</th>\n",
              "      <th>overtime</th>\n",
              "      <th>subcontract</th>\n",
              "    </tr>\n",
              "  </thead>\n",
              "  <tbody>\n",
              "    <tr>\n",
              "      <th>1</th>\n",
              "      <td>1000.0</td>\n",
              "      <td>100.0</td>\n",
              "      <td>50.0</td>\n",
              "    </tr>\n",
              "    <tr>\n",
              "      <th>2</th>\n",
              "      <td>1200.0</td>\n",
              "      <td>150.0</td>\n",
              "      <td>500.0</td>\n",
              "    </tr>\n",
              "    <tr>\n",
              "      <th>3</th>\n",
              "      <td>1300.0</td>\n",
              "      <td>200.0</td>\n",
              "      <td>500.0</td>\n",
              "    </tr>\n",
              "    <tr>\n",
              "      <th>4</th>\n",
              "      <td>1300.0</td>\n",
              "      <td>200.0</td>\n",
              "      <td>500.0</td>\n",
              "    </tr>\n",
              "  </tbody>\n",
              "</table>\n",
              "</div>\n",
              "      <button class=\"colab-df-convert\" onclick=\"convertToInteractive('df-c0687ac8-b1a0-4051-bff3-f82ef4346045')\"\n",
              "              title=\"Convert this dataframe to an interactive table.\"\n",
              "              style=\"display:none;\">\n",
              "        \n",
              "  <svg xmlns=\"http://www.w3.org/2000/svg\" height=\"24px\"viewBox=\"0 0 24 24\"\n",
              "       width=\"24px\">\n",
              "    <path d=\"M0 0h24v24H0V0z\" fill=\"none\"/>\n",
              "    <path d=\"M18.56 5.44l.94 2.06.94-2.06 2.06-.94-2.06-.94-.94-2.06-.94 2.06-2.06.94zm-11 1L8.5 8.5l.94-2.06 2.06-.94-2.06-.94L8.5 2.5l-.94 2.06-2.06.94zm10 10l.94 2.06.94-2.06 2.06-.94-2.06-.94-.94-2.06-.94 2.06-2.06.94z\"/><path d=\"M17.41 7.96l-1.37-1.37c-.4-.4-.92-.59-1.43-.59-.52 0-1.04.2-1.43.59L10.3 9.45l-7.72 7.72c-.78.78-.78 2.05 0 2.83L4 21.41c.39.39.9.59 1.41.59.51 0 1.02-.2 1.41-.59l7.78-7.78 2.81-2.81c.8-.78.8-2.07 0-2.86zM5.41 20L4 18.59l7.72-7.72 1.47 1.35L5.41 20z\"/>\n",
              "  </svg>\n",
              "      </button>\n",
              "      \n",
              "  <style>\n",
              "    .colab-df-container {\n",
              "      display:flex;\n",
              "      flex-wrap:wrap;\n",
              "      gap: 12px;\n",
              "    }\n",
              "\n",
              "    .colab-df-convert {\n",
              "      background-color: #E8F0FE;\n",
              "      border: none;\n",
              "      border-radius: 50%;\n",
              "      cursor: pointer;\n",
              "      display: none;\n",
              "      fill: #1967D2;\n",
              "      height: 32px;\n",
              "      padding: 0 0 0 0;\n",
              "      width: 32px;\n",
              "    }\n",
              "\n",
              "    .colab-df-convert:hover {\n",
              "      background-color: #E2EBFA;\n",
              "      box-shadow: 0px 1px 2px rgba(60, 64, 67, 0.3), 0px 1px 3px 1px rgba(60, 64, 67, 0.15);\n",
              "      fill: #174EA6;\n",
              "    }\n",
              "\n",
              "    [theme=dark] .colab-df-convert {\n",
              "      background-color: #3B4455;\n",
              "      fill: #D2E3FC;\n",
              "    }\n",
              "\n",
              "    [theme=dark] .colab-df-convert:hover {\n",
              "      background-color: #434B5C;\n",
              "      box-shadow: 0px 1px 3px 1px rgba(0, 0, 0, 0.15);\n",
              "      filter: drop-shadow(0px 1px 2px rgba(0, 0, 0, 0.3));\n",
              "      fill: #FFFFFF;\n",
              "    }\n",
              "  </style>\n",
              "\n",
              "      <script>\n",
              "        const buttonEl =\n",
              "          document.querySelector('#df-c0687ac8-b1a0-4051-bff3-f82ef4346045 button.colab-df-convert');\n",
              "        buttonEl.style.display =\n",
              "          google.colab.kernel.accessAllowed ? 'block' : 'none';\n",
              "\n",
              "        async function convertToInteractive(key) {\n",
              "          const element = document.querySelector('#df-c0687ac8-b1a0-4051-bff3-f82ef4346045');\n",
              "          const dataTable =\n",
              "            await google.colab.kernel.invokeFunction('convertToInteractive',\n",
              "                                                     [key], {});\n",
              "          if (!dataTable) return;\n",
              "\n",
              "          const docLinkHtml = 'Like what you see? Visit the ' +\n",
              "            '<a target=\"_blank\" href=https://colab.research.google.com/notebooks/data_table.ipynb>data table notebook</a>'\n",
              "            + ' to learn more about interactive tables.';\n",
              "          element.innerHTML = '';\n",
              "          dataTable['output_type'] = 'display_data';\n",
              "          await google.colab.output.renderOutput(dataTable, element);\n",
              "          const docLink = document.createElement('div');\n",
              "          docLink.innerHTML = docLinkHtml;\n",
              "          element.appendChild(docLink);\n",
              "        }\n",
              "      </script>\n",
              "    </div>\n",
              "  </div>\n",
              "  "
            ]
          },
          "metadata": {}
        }
      ]
    },
    {
      "cell_type": "markdown",
      "source": [
        "## Conclusion: Production Plan & Cost Estimate\n",
        "\n",
        "Minimum of **$164,800** is required to meet the demand\n",
        "\n",
        "Below is the production plan to achieve this optimal cost\n",
        "* Utilize full capacity of regular & overtime resources\n",
        "* Produce only 50 units through subcontracting in the first quarter\n",
        "* Utilize full capacity of subcontracting in the remaining 3 quarters"
      ],
      "metadata": {
        "id": "TMGr5F36RNS0"
      }
    }
  ]
}