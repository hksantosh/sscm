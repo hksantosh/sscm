{
  "nbformat": 4,
  "nbformat_minor": 0,
  "metadata": {
    "colab": {
      "provenance": [],
      "authorship_tag": "ABX9TyOdC/zBoztyngXmgGWyFWLq",
      "include_colab_link": true
    },
    "kernelspec": {
      "name": "python3",
      "display_name": "Python 3"
    },
    "language_info": {
      "name": "python"
    }
  },
  "cells": [
    {
      "cell_type": "markdown",
      "metadata": {
        "id": "view-in-github",
        "colab_type": "text"
      },
      "source": [
        "<a href=\"https://colab.research.google.com/github/hksantosh/sscm/blob/main/ASCP/Production_planning.ipynb\" target=\"_parent\"><img src=\"https://colab.research.google.com/assets/colab-badge.svg\" alt=\"Open In Colab\"/></a>"
      ]
    },
    {
      "cell_type": "code",
      "source": [
        "!pip install ortools"
      ],
      "metadata": {
        "id": "OSDZHjxLfYND"
      },
      "execution_count": null,
      "outputs": []
    },
    {
      "cell_type": "code",
      "source": [
        "from ortools.linear_solver import pywraplp\n",
        "import numpy as np"
      ],
      "metadata": {
        "id": "fD9YJPBRgunY"
      },
      "execution_count": null,
      "outputs": []
    },
    {
      "cell_type": "markdown",
      "source": [
        "# Formulating the Problem"
      ],
      "metadata": {
        "id": "7NnU5EBZYwgg"
      }
    },
    {
      "cell_type": "markdown",
      "source": [
        "## Indices\n",
        "4 quarters - [1,2,3,4]\n"
      ],
      "metadata": {
        "id": "0BUCqiULTJEO"
      }
    },
    {
      "cell_type": "markdown",
      "source": [
        "## Parameters\n",
        "*   Regular production costs \\$20 per unit\n",
        "*   Overtime production costs \\$25 per unit\n",
        "*   Subcontracting costs \\$28 per unit\n",
        "*   Inventory costs \\$3 per unit-period\n",
        "*   Inventory at beginning of the year = 300 units\n",
        "*   Inventory at end of the year = 300 units\n"
      ],
      "metadata": {
        "id": "7Em9iU7SUBG5"
      }
    },
    {
      "cell_type": "code",
      "source": [
        "regular_prod_cost = 20\n",
        "overtime_prod_cost = 25\n",
        "subcontract_cost = 28\n",
        "inventory_cost = 3\n",
        "starting_inventory = 300\n",
        "year_end_inventory = 300"
      ],
      "metadata": {
        "id": "xz1Xe6BEd47D"
      },
      "execution_count": null,
      "outputs": []
    },
    {
      "cell_type": "markdown",
      "source": [
        "## Constraints\n",
        "* Demand constraint for each quarter - 900, 1500, 1600, 3000\n",
        "* Regular production capacity constraint for each quarter - 1000, 1200, 1300, 1300\n",
        "* Overtime production capacity constraint for each quarter - 100, 150, 200, 200\n",
        "*\tSubcontract production capacity constraint for each quarter - 500, 500, 500, 500"
      ],
      "metadata": {
        "id": "CYXGmoTaWBjR"
      }
    },
    {
      "cell_type": "code",
      "source": [
        "qrtrly_demand = [900,1500,1600,3000]\n",
        "qrtrly_prod_capacity = [1000,1200,1300,1300]\n",
        "qrtrly_overtime_capacity = [100,150,200,200]\n",
        "qrtrly_subcontract_capacity = [500,500,500,500]"
      ],
      "metadata": {
        "id": "jOC9c9RUfwk1"
      },
      "execution_count": null,
      "outputs": []
    },
    {
      "cell_type": "markdown",
      "source": [
        "## Decision Variables\n",
        "* Units produced in each quarter using regular production - $R_{1}, R_{2}, R_{3}, R_{4}$\n",
        "* Units produced in each quarter using Overtime - $V_{1}, V_{2}, V_{3}, V_{4}$\n",
        "* Units produced in each quarter using Subcontracts - $S_{1}, S_{2}, S_{3}, S_{4}$\n",
        "\n",
        "## Other Variables\n",
        "* Inventory at the start of each quarter - $B_{1}, B_{2}, B_{3}, B_{4}$\n",
        "* Inventory at the end of each quarter - $E_{1}, E_{2}, E_{3}, E_{4}$"
      ],
      "metadata": {
        "id": "6Lv7sB2cUfRU"
      }
    },
    {
      "cell_type": "code",
      "source": [
        "R = "
      ],
      "metadata": {
        "id": "Jt3y2hP_e5_-"
      },
      "execution_count": null,
      "outputs": []
    },
    {
      "cell_type": "markdown",
      "source": [
        "## Objective Function\n",
        "Minimize the total production cost = $\\min( \\sum_{q=1}^{4} (20R_{q}+25V_{q}+28S_{q}+3I_{q})$\\)\n"
      ],
      "metadata": {
        "id": "nAs7EeyKXZz2"
      }
    },
    {
      "cell_type": "code",
      "source": [],
      "metadata": {
        "id": "1qzIgatnY3DF"
      },
      "execution_count": null,
      "outputs": []
    }
  ]
}