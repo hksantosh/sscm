{
  "nbformat": 4,
  "nbformat_minor": 0,
  "metadata": {
    "colab": {
      "provenance": [],
      "authorship_tag": "ABX9TyNOU/G3NihntxxpPzDcLg/O",
      "include_colab_link": true
    },
    "kernelspec": {
      "name": "python3",
      "display_name": "Python 3"
    },
    "language_info": {
      "name": "python"
    }
  },
  "cells": [
    {
      "cell_type": "markdown",
      "metadata": {
        "id": "view-in-github",
        "colab_type": "text"
      },
      "source": [
        "<a href=\"https://colab.research.google.com/github/hksantosh/sscm/blob/main/ASCP/Production_planning.ipynb\" target=\"_parent\"><img src=\"https://colab.research.google.com/assets/colab-badge.svg\" alt=\"Open In Colab\"/></a>"
      ]
    },
    {
      "cell_type": "code",
      "source": [
        "!pip install ortools"
      ],
      "metadata": {
        "id": "OSDZHjxLfYND"
      },
      "execution_count": null,
      "outputs": []
    },
    {
      "cell_type": "code",
      "source": [
        "import numpy as np\n",
        "import pandas as pd\n",
        "from ortools.linear_solver import pywraplp\n",
        "\n",
        "solver = pywraplp.Solver.CreateSolver('SCIP')\n",
        "infinity = solver.infinity()"
      ],
      "metadata": {
        "id": "fD9YJPBRgunY"
      },
      "execution_count": null,
      "outputs": []
    },
    {
      "cell_type": "markdown",
      "source": [
        "# Formulating the Problem"
      ],
      "metadata": {
        "id": "7NnU5EBZYwgg"
      }
    },
    {
      "cell_type": "markdown",
      "source": [
        "## Indices\n",
        "4 quarters - [1,2,3,4]\n"
      ],
      "metadata": {
        "id": "0BUCqiULTJEO"
      }
    },
    {
      "cell_type": "code",
      "source": [
        "quarters = [1,2,3,4]"
      ],
      "metadata": {
        "id": "lnagY9rFi-1i"
      },
      "execution_count": null,
      "outputs": []
    },
    {
      "cell_type": "markdown",
      "source": [
        "## Parameters\n",
        "*   Regular production costs \\$20 per unit\n",
        "*   Overtime production costs \\$25 per unit\n",
        "*   Subcontracting costs \\$28 per unit\n",
        "*   Inventory costs \\$3 per unit-period\n",
        "*   Inventory at beginning of the year = 300 units\n",
        "*   Inventory at end of the year = 300 units\n"
      ],
      "metadata": {
        "id": "7Em9iU7SUBG5"
      }
    },
    {
      "cell_type": "code",
      "source": [
        "regular_prod_cost = 20\n",
        "overtime_prod_cost = 25\n",
        "subcontract_cost = 28\n",
        "inventory_cost = 3\n",
        "starting_inventory = 300\n",
        "year_end_inventory = 300\n",
        "\n",
        "qrtrly_demand = [900,1500,1600,3000]\n",
        "qrtrly_regular_capacity = [1000,1200,1300,1300]\n",
        "qrtrly_overtime_capacity = [100,150,200,200]\n",
        "qrtrly_subcontract_capacity = [500,500,500,500]"
      ],
      "metadata": {
        "id": "xz1Xe6BEd47D"
      },
      "execution_count": null,
      "outputs": []
    },
    {
      "cell_type": "markdown",
      "source": [
        "## Decision Variables\n",
        "* Units produced in each quarter using regular production - $R_{1}, R_{2}, R_{3}, R_{4}$\n",
        "* Units produced in each quarter using Overtime - $V_{1}, V_{2}, V_{3}, V_{4}$\n",
        "* Units produced in each quarter using Subcontracts - $S_{1}, S_{2}, S_{3}, S_{4}$\n",
        "\n",
        "## Other Variables\n",
        "* Inventory at the start of each quarter - $B_{1}, B_{2}, B_{3}, B_{4}$\n",
        "* Inventory at the end of each quarter - $E_{1}, E_{2}, E_{3}, E_{4}$"
      ],
      "metadata": {
        "id": "6Lv7sB2cUfRU"
      }
    },
    {
      "cell_type": "code",
      "source": [
        "df = pd.DataFrame(index=quarters,columns=['regular','overtime','subcontract','inventory'])\n",
        "\n",
        "for i in quarters:\n",
        "  for j in ['regular','overtime','subcontract']:\n",
        "    df.at[i,j] = solver.IntVar(0, infinity, 'X[%d][%s]' %(i,j))\n",
        "\n",
        "for i in quarters:\n",
        "  if(i==1):\n",
        "    inventory = starting_inventory\n",
        "  else:\n",
        "    inventory = df.at[i-1,'inventory'] + df.at[i-1,'regular'] + df.at[i-1,'overtime'] + df.at[i-1,'subcontract'] \n",
        "                  - qrtrly_demand[i-2] # i-2 as this is an array & index starts at 0 whereas our dataframe row index starts at 1 (quarter no.)\n",
        "\n",
        "  df.at[i,'inventory'] = solver.IntVar(inventory, inventory, 'X[%d][inventory]' %(i))"
      ],
      "metadata": {
        "id": "Jt3y2hP_e5_-"
      },
      "execution_count": null,
      "outputs": []
    },
    {
      "cell_type": "markdown",
      "source": [
        "## Constraints\n",
        "* Demand constraint for each quarter - 900, 1500, 1600, 3000\n",
        "* Regular production capacity constraint for each quarter - 1000, 1200, 1300, 1300\n",
        "* Overtime production capacity constraint for each quarter - 100, 150, 200, 200\n",
        "*\tSubcontract production capacity constraint for each quarter - 500, 500, 500, 500"
      ],
      "metadata": {
        "id": "CYXGmoTaWBjR"
      }
    },
    {
      "cell_type": "code",
      "source": [
        "#Create the constraints\n",
        "\n",
        "for i in quarters:\n",
        "  ## Set capacity constraints\n",
        "  solver.Add(df.at[i,'regular'] <= qrtrly_regular_capacity[i-1])\n",
        "  solver.Add(df.at[i,'overtime'] <= qrtrly_overtime_capacity[i-1])\n",
        "  solver.Add(df.at[i,'subcontract'] <= qrtrly_subcontract_capacity[i-1])\n",
        "\n",
        "  # Set demand satisfaction constraint\n",
        "  solver.Add(df.at[i,'inventory'] >= 0\n",
        "\n",
        "## Set year end inventory constraint (in other words end of q4 inventory constraint)\n",
        "solver.Add( (df.at[4,'inventory'] + df.at[4,'regular'] + df.at[4,'overtime'] + df.at[4,'subcontract'] - qrtrly_demand[3]) == year_end_inventory )"
      ],
      "metadata": {
        "id": "jOC9c9RUfwk1"
      },
      "execution_count": null,
      "outputs": []
    },
    {
      "cell_type": "markdown",
      "source": [
        "## Objective Function\n",
        "Minimize the total production cost = $\\min( \\sum_{q=1}^{4} (20R_{q}+25V_{q}+28S_{q}+3I_{q})$\\)\n"
      ],
      "metadata": {
        "id": "nAs7EeyKXZz2"
      }
    },
    {
      "cell_type": "code",
      "source": [
        "objective_terms = []\n",
        "for i in quarters:\n",
        "  objective_terms.append(df.at[i,'regular']*regular_prod_cost)\n",
        "  objective_terms.append(df.at[i,'overtime']*overtime_prod_cost)\n",
        "  objective_terms.append(df.at[i,'subcontract']*subcontract_cost)\n",
        "  objective_terms.append(df.at[i,'inventory']*inventory_cost)\n",
        "\n",
        "solver.Minimize(solver.Sum(objective_terms))\n",
        "status = solver.Solve()"
      ],
      "metadata": {
        "id": "1qzIgatnY3DF"
      },
      "execution_count": null,
      "outputs": []
    },
    {
      "cell_type": "code",
      "source": [],
      "metadata": {
        "id": "JoJ9nLfiEGNr"
      },
      "execution_count": null,
      "outputs": []
    }
  ]
}